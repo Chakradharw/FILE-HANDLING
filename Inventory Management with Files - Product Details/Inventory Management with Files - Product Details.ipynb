{
 "cells": [
  {
   "cell_type": "markdown",
   "id": "52890fc1",
   "metadata": {},
   "source": [
    "## Product Details\n",
    "1. Product ID\n",
    "2. Name of Product\n",
    "3. Price of Product\n",
    "4. Quantity"
   ]
  },
  {
   "cell_type": "code",
   "execution_count": 1,
   "id": "6ee44bf4",
   "metadata": {},
   "outputs": [],
   "source": [
    "fd = open('Inventory.txt','r')\n",
    "\n",
    "products = fd.read().split('\\n')\n",
    "\n",
    "fd.close()"
   ]
  },
  {
   "cell_type": "code",
   "execution_count": 2,
   "id": "100a8bde",
   "metadata": {},
   "outputs": [
    {
     "name": "stdout",
     "output_type": "stream",
     "text": [
      "1,5 Star,5,100\n",
      "2,Milky Bar,5,100\n",
      "3,Cake,300,5\n",
      "4,Candy,1,200\n"
     ]
    }
   ],
   "source": [
    "for i in products:\n",
    "    print(i)"
   ]
  },
  {
   "cell_type": "code",
   "execution_count": 4,
   "id": "d9533d8f",
   "metadata": {
    "scrolled": true
   },
   "outputs": [
    {
     "name": "stdout",
     "output_type": "stream",
     "text": [
      "Enter product ID: 2\n",
      "Enter product Quantity: 6\n",
      "['1', '5 Star', '5', '100']\n",
      "['2', 'Milky Bar', '5', '100']\n",
      "-----------------------------\n",
      "Product Name     :  Milky Bar\n",
      "Price            :  5\n",
      "Quantity         :  6\n",
      "-----------------------------\n",
      "Billing Amount   :  30\n",
      "-----------------------------\n",
      "['3', 'Cake', '300', '5']\n",
      "['4', 'Candy', '1', '200']\n"
     ]
    }
   ],
   "source": [
    "ui_prod_id = input(\"Enter product ID: \")\n",
    "ui_prod_qn = input(\"Enter product Quantity: \")\n",
    "\n",
    "for product in products:\n",
    "    \n",
    "    prod_details = product.split(',')\n",
    "    print(prod_details)\n",
    "    if(prod_details[0] == ui_prod_id):\n",
    "        print(\"-----------------------------\")\n",
    "        print(\"Product Name     : \", prod_details[1])\n",
    "        print(\"Price            : \", prod_details[2]) \n",
    "        print(\"Quantity         : \", ui_prod_qn) \n",
    "        print(\"-----------------------------\")\n",
    "        print(\"Billing Amount   : \", int(ui_prod_qn) * int(prod_details[2]))\n",
    "        print(\"-----------------------------\")"
   ]
  },
  {
   "cell_type": "code",
   "execution_count": null,
   "id": "a007666c",
   "metadata": {},
   "outputs": [],
   "source": [
    "txt"
   ]
  },
  {
   "cell_type": "code",
   "execution_count": null,
   "id": "e38bf06e",
   "metadata": {},
   "outputs": [],
   "source": []
  },
  {
   "cell_type": "code",
   "execution_count": null,
   "id": "53491e9a",
   "metadata": {},
   "outputs": [],
   "source": []
  }
 ],
 "metadata": {
  "kernelspec": {
   "display_name": "Python 3 (ipykernel)",
   "language": "python",
   "name": "python3"
  },
  "language_info": {
   "codemirror_mode": {
    "name": "ipython",
    "version": 3
   },
   "file_extension": ".py",
   "mimetype": "text/x-python",
   "name": "python",
   "nbconvert_exporter": "python",
   "pygments_lexer": "ipython3",
   "version": "3.9.12"
  }
 },
 "nbformat": 4,
 "nbformat_minor": 5
}
